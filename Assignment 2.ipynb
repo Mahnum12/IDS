{
 "cells": [
  {
   "cell_type": "markdown",
   "metadata": {},
   "source": [
    " # Part 1 : User Data Processing With Lists\n",
    " "
   ]
  },
  {
   "cell_type": "markdown",
   "metadata": {},
   "source": []
  },
  {
   "cell_type": "code",
   "execution_count": null,
   "metadata": {
    "vscode": {
     "languageId": "plaintext"
    }
   },
   "outputs": [],
   "source": [
    " Function to filter users older than 30 from 'USA' and 'Canada' and extract their names"
   ]
  },
  {
   "cell_type": "code",
   "execution_count": 5,
   "metadata": {},
   "outputs": [],
   "source": [
    "def filter_users_by_age_and_country(users):\n",
    "    filtered_users = [user[1] for user in users if user[2] > 30 and user[3] in ['USA', 'Canada']]\n",
    "    return filtered_users"
   ]
  },
  {
   "cell_type": "markdown",
   "metadata": {},
   "source": [
    " Function to sort users by age and get the top 10 oldest users\n",
    " "
   ]
  },
  {
   "cell_type": "code",
   "execution_count": 6,
   "metadata": {},
   "outputs": [],
   "source": [
    "def get_top_10_oldest_users(users):\n",
    "    sorted_users = sorted(users, key=lambda x: x[2], reverse=True)  \n",
    "    return sorted_users[:10]  "
   ]
  },
  {
   "cell_type": "markdown",
   "metadata": {},
   "source": [
    " Function to check for duplicate names in the user list"
   ]
  },
  {
   "cell_type": "code",
   "execution_count": 7,
   "metadata": {},
   "outputs": [],
   "source": [
    "def find_duplicate_names(users):\n",
    "    names = [user[1] for user in users]\n",
    "    duplicates = set([name for name in names if names.count(name) > 1])\n",
    "    return duplicates"
   ]
  },
  {
   "cell_type": "markdown",
   "metadata": {},
   "source": [
    " Example usage\n"
   ]
  },
  {
   "cell_type": "code",
   "execution_count": 8,
   "metadata": {},
   "outputs": [
    {
     "name": "stdout",
     "output_type": "stream",
     "text": [
      "Filtered names: ['Alice', 'Charlie', 'Eve', 'Alice', 'Frank', 'Hank', 'Jack']\n",
      "Top 10 oldest users: [(11, 'Jack', 60, 'USA'), (7, 'Frank', 50, 'USA'), (4, 'David', 45, 'UK'), (6, 'Alice', 40, 'Canada'), (1, 'Alice', 35, 'USA'), (9, 'Hank', 33, 'Canada'), (5, 'Eve', 32, 'Canada'), (3, 'Charlie', 31, 'USA'), (10, 'Ivy', 29, 'Germany'), (2, 'Bob', 28, 'Canada')]\n",
      "Duplicate names: {'Alice'}\n"
     ]
    }
   ],
   "source": [
    "user_data = [\n",
    "    (1, \"Alice\", 35, \"USA\"),\n",
    "    (2, \"Bob\", 28, \"Canada\"),\n",
    "    (3, \"Charlie\", 31, \"USA\"),\n",
    "    (4, \"David\", 45, \"UK\"),\n",
    "    (5, \"Eve\", 32, \"Canada\"),\n",
    "    (6, \"Alice\", 40, \"Canada\"),\n",
    "    (7, \"Frank\", 50, \"USA\"),\n",
    "    (8, \"Grace\", 27, \"Australia\"),\n",
    "    (9, \"Hank\", 33, \"Canada\"),\n",
    "    (10, \"Ivy\", 29, \"Germany\"),\n",
    "    (11, \"Jack\", 60, \"USA\"),\n",
    "    (12, \"Kevin\", 22, \"Canada\")\n",
    "]\n",
    "\n",
    "filtered_names = filter_users_by_age_and_country(user_data)\n",
    "print(\"Filtered names:\", filtered_names)\n",
    "\n",
    "\n",
    "top_10_oldest = get_top_10_oldest_users(user_data)\n",
    "print(\"Top 10 oldest users:\", top_10_oldest)\n",
    "\n",
    "duplicate_names = find_duplicate_names(user_data)\n",
    "print(\"Duplicate names:\", duplicate_names)\n"
   ]
  },
  {
   "cell_type": "markdown",
   "metadata": {},
   "source": [
    " # Part 2 Immutable Data Management with Tuples"
   ]
  },
  {
   "cell_type": "markdown",
   "metadata": {},
   "source": [
    "Function to find the total number of unique users"
   ]
  },
  {
   "cell_type": "code",
   "execution_count": 9,
   "metadata": {},
   "outputs": [],
   "source": [
    "def unique_users_in_transactions(transactions):\n",
    "    unique_users = {trans[1] for trans in transactions}  \n",
    "    return len(unique_users)"
   ]
  },
  {
   "cell_type": "markdown",
   "metadata": {},
   "source": [
    "Function to find the transaction with the highest amount\n"
   ]
  },
  {
   "cell_type": "code",
   "execution_count": 10,
   "metadata": {},
   "outputs": [],
   "source": [
    "def highest_transaction(transactions):\n",
    "    return max(transactions, key=lambda x: x[2])"
   ]
  },
  {
   "cell_type": "markdown",
   "metadata": {},
   "source": [
    "Function to extract transaction_ids and user_ids"
   ]
  },
  {
   "cell_type": "code",
   "execution_count": 11,
   "metadata": {},
   "outputs": [],
   "source": [
    "def extract_ids(transactions):\n",
    "    transaction_ids = [trans[0] for trans in transactions]\n",
    "    user_ids = [trans[1] for trans in transactions]\n",
    "    return transaction_ids, user_ids\n"
   ]
  },
  {
   "cell_type": "markdown",
   "metadata": {},
   "source": [
    " Example usage"
   ]
  },
  {
   "cell_type": "code",
   "execution_count": 13,
   "metadata": {},
   "outputs": [
    {
     "name": "stdout",
     "output_type": "stream",
     "text": [
      "Unique Users: 5\n",
      "Highest Transaction: (108, 1, 600.0, '2024-10-01 16:00:00')\n",
      "Transaction IDs: [101, 102, 103, 104, 105, 106, 107, 108]\n",
      "User IDs: [1, 2, 3, 1, 4, 2, 5, 1]\n"
     ]
    }
   ],
   "source": [
    "unique_users_count = unique_users_in_transactions(transactions)\n",
    "highest_trans = highest_transaction(transactions)\n",
    "trans_ids, user_ids = extract_ids(transactions)\n",
    "\n",
    "print(\"Unique Users:\", unique_users_count)\n",
    "print(\"Highest Transaction:\", highest_trans)\n",
    "print(\"Transaction IDs:\", trans_ids)\n",
    "print(\"User IDs:\", user_ids)"
   ]
  },
  {
   "cell_type": "markdown",
   "metadata": {},
   "source": [
    " # Part 3 Unique Data Handling"
   ]
  },
  {
   "cell_type": "markdown",
   "metadata": {},
   "source": [
    "Function to find users who visited both Page A and Page B"
   ]
  },
  {
   "cell_type": "code",
   "execution_count": 23,
   "metadata": {},
   "outputs": [],
   "source": [
    "def users_visited_both(page_a, page_b):\n",
    "    return page_a.intersection(page_b)"
   ]
  },
  {
   "cell_type": "markdown",
   "metadata": {},
   "source": [
    "Function to find users who visited either Page A or Page C but not both"
   ]
  },
  {
   "cell_type": "code",
   "execution_count": 28,
   "metadata": {},
   "outputs": [],
   "source": [
    "def users_visited_either_but_not_both(page_a, page_c):\n",
    "    return page_a.symmetric_difference(page_c)\n"
   ]
  },
  {
   "cell_type": "markdown",
   "metadata": {},
   "source": [
    "Function to update Page A with new user IDs"
   ]
  },
  {
   "cell_type": "code",
   "execution_count": 32,
   "metadata": {},
   "outputs": [],
   "source": [
    "def update_page_a_users(page_a, new_users):\n",
    "    page_a.update(new_users)\n",
    "    return page_a\n"
   ]
  },
  {
   "cell_type": "markdown",
   "metadata": {},
   "source": [
    "Function to remove a list of user IDs from Page B"
   ]
  },
  {
   "cell_type": "code",
   "execution_count": 35,
   "metadata": {},
   "outputs": [],
   "source": [
    "def remove_page_b_users(page_b, users_to_remove):\n",
    "    page_b.difference_update(users_to_remove)\n",
    "    return page_b"
   ]
  },
  {
   "cell_type": "markdown",
   "metadata": {},
   "source": [
    "Example usage\n"
   ]
  },
  {
   "cell_type": "code",
   "execution_count": 37,
   "metadata": {},
   "outputs": [
    {
     "name": "stdout",
     "output_type": "stream",
     "text": [
      "Users who visited both Page A and Page B: {3, 4, 5}\n",
      "Users who visited either Page A or Page C, but not both: {1, 2, 3, 4, 6, 8, 9}\n",
      "Updated Page A users: {1, 2, 3, 4, 5, 10, 11}\n",
      "Updated Page B users: {4, 5, 7}\n"
     ]
    }
   ],
   "source": [
    "page_a_users = {1, 2, 3, 4, 5}\n",
    "page_b_users = {3, 4, 5, 6, 7}\n",
    "page_c_users = {5, 6, 8, 9}\n",
    "\n",
    "common_users = users_visited_both(page_a_users, page_b_users)\n",
    "print(\"Users who visited both Page A and Page B:\", common_users)\n",
    "\n",
    "unique_users = users_visited_either_but_not_both(page_a_users, page_c_users)\n",
    "print(\"Users who visited either Page A or Page C, but not both:\", unique_users)\n",
    "\n",
    "new_users_for_a = {10, 11}\n",
    "updated_page_a = update_page_a_users(page_a_users, new_users_for_a)\n",
    "print(\"Updated Page A users:\", updated_page_a)\n",
    "\n",
    "users_to_remove_from_b = [3, 6]\n",
    "updated_page_b = remove_page_b_users(page_b_users, users_to_remove_from_b)\n",
    "print(\"Updated Page B users:\", updated_page_b)"
   ]
  },
  {
   "cell_type": "markdown",
   "metadata": {},
   "source": [
    " # Part 4 Data Aggregation with Dictionaries"
   ]
  },
  {
   "cell_type": "markdown",
   "metadata": {},
   "source": [
    " Function to filter users with rating 4 or higher"
   ]
  },
  {
   "cell_type": "code",
   "execution_count": 38,
   "metadata": {},
   "outputs": [],
   "source": [
    "def filter_high_rated_users(feedback):\n",
    "    return {user_id: details['rating'] for user_id, details in feedback.items() if details['rating'] >= 4}"
   ]
  },
  {
   "cell_type": "markdown",
   "metadata": {},
   "source": [
    "Function to sort feedback by rating in descending order and return top 5 users"
   ]
  },
  {
   "cell_type": "code",
   "execution_count": 39,
   "metadata": {},
   "outputs": [],
   "source": [
    "def top_5_rated_users(feedback):\n",
    "    sorted_feedback = sorted(feedback.items(), key=lambda x: x[1]['rating'], reverse=True)\n",
    "    return sorted_feedback[:5]"
   ]
  },
  {
   "cell_type": "markdown",
   "metadata": {},
   "source": [
    "Function to combine feedback from multiple dictionaries"
   ]
  },
  {
   "cell_type": "code",
   "execution_count": null,
   "metadata": {},
   "outputs": [],
   "source": [
    "def combine_feedback_dicts(*dicts):\n",
    "    combined = {}\n",
    "    for feedback in dicts:\n",
    "        for user_id, details in feedback.items():\n",
    "            if user_id not in combined:\n",
    "                combined[user_id] = details\n",
    "            else:\n",
    "                combined[user_id]['rating'] = max(combined[user_id]['rating'], details['rating'])\n",
    "                combined[user_id]['comments'] += \"; \" + details['comments']\n",
    "    return combined\n",
    "\n",
    "high_rated_users = {user_id: details['rating'] for user_id, details in feedback.items() if details['rating'] > 3}\n"
   ]
  },
  {
   "cell_type": "markdown",
   "metadata": {},
   "source": [
    "Example usage"
   ]
  },
  {
   "cell_type": "code",
   "execution_count": 46,
   "metadata": {},
   "outputs": [
    {
     "name": "stdout",
     "output_type": "stream",
     "text": [
      "Filtered High Rated Users: {1: 5, 3: 4}\n",
      "Top 5 Rated Users: [(1, {'rating': 5, 'comments': 'Great product'}), (3, {'rating': 4, 'comments': 'Good experience'}), (2, {'rating': 3, 'comments': 'Average service'}), (4, {'rating': 2, 'comments': 'Poor quality'})]\n",
      "Combined Feedback: {1: {'rating': 5, 'comments': 'Great product'}, 2: {'rating': 3, 'comments': 'Average service'}, 3: {'rating': 4, 'comments': 'Good experience'}, 4: {'rating': 2, 'comments': 'Poor quality'}, 5: {'rating': 4, 'comments': 'Nice app'}}\n",
      "High Rated Users (rating > 3): {1: 5, 3: 4}\n"
     ]
    }
   ],
   "source": [
    "\n",
    "feedback = {\n",
    "    1: {'rating': 5, 'comments': 'Great product'},\n",
    "    2: {'rating': 3, 'comments': 'Average service'},\n",
    "    3: {'rating': 4, 'comments': 'Good experience'},\n",
    "    4: {'rating': 2, 'comments': 'Poor quality'}\n",
    "}\n",
    "\n",
    "filtered_feedback = filter_high_rated_users(feedback)  \n",
    "top_5_users = top_5_rated_users(feedback)  \n",
    "combined_feedback = combine_feedback_dicts(feedback, {5: {'rating': 4, 'comments': 'Nice app'}})  \n",
    "\n",
    "print(\"Filtered High Rated Users:\", filtered_feedback)\n",
    "print(\"Top 5 Rated Users:\", top_5_users)\n",
    "print(\"Combined Feedback:\", combined_feedback)\n",
    "print(\"High Rated Users (rating > 3):\", high_rated_users)\n"
   ]
  }
 ],
 "metadata": {
  "kernelspec": {
   "display_name": "Python 3",
   "language": "python",
   "name": "python3"
  },
  "language_info": {
   "codemirror_mode": {
    "name": "ipython",
    "version": 3
   },
   "file_extension": ".py",
   "mimetype": "text/x-python",
   "name": "python",
   "nbconvert_exporter": "python",
   "pygments_lexer": "ipython3",
   "version": "3.11.1"
  }
 },
 "nbformat": 4,
 "nbformat_minor": 2
}
