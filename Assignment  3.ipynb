{
 "cells": [
  {
   "cell_type": "markdown",
   "metadata": {},
   "source": [
    "# Task 1: E-commerce Data Processing"
   ]
  },
  {
   "cell_type": "markdown",
   "metadata": {},
   "source": [
    "Part A: Data Validation"
   ]
  },
  {
   "cell_type": "code",
   "execution_count": 2,
   "metadata": {},
   "outputs": [
    {
     "name": "stdout",
     "output_type": "stream",
     "text": [
      "[{'customer': 'Alice', 'total': 250.5}, {'customer': 'Charlie', 'total': 450}, {'customer': 'Daisy', 'total': 100.0}]\n"
     ]
    }
   ],
   "source": [
    "# Define the list of orders\n",
    "orders = [\n",
    "    {\"customer\": \"Alice\", \"total\": 250.5},\n",
    "    {\"customer\": \"Bob\", \"total\": \"invalid_data\"},\n",
    "    {\"customer\": \"Charlie\", \"total\": 450},\n",
    "    {\"customer\": \"Daisy\", \"total\": 100.0},\n",
    "    {\"customer\": \"Eve\", \"total\": -30},  # Invalid total\n",
    "]\n",
    "\n",
    "# Define a function to validate orders\n",
    "def validate_orders(orders):\n",
    "    # Use a lambda function with filter() to filter out invalid orders\n",
    "    try:\n",
    "        valid_orders = list(filter(lambda order: isinstance(order[\"total\"], (int, float)) and order[\"total\"] >= 0, orders))\n",
    "        return valid_orders\n",
    "    except Exception as e:\n",
    "        # Handle any type conversion issues\n",
    "        print(f\"An error occurred: {e}\")\n",
    "        return []\n",
    "\n",
    "# Call the function to validate orders\n",
    "valid_orders = validate_orders(orders)\n",
    "print(valid_orders)"
   ]
  },
  {
   "cell_type": "markdown",
   "metadata": {},
   "source": [
    "Part B: Discount Application"
   ]
  },
  {
   "cell_type": "code",
   "execution_count": 3,
   "metadata": {},
   "outputs": [
    {
     "name": "stdout",
     "output_type": "stream",
     "text": [
      "[{'customer': 'Alice', 'total': 250.5}, {'customer': 'Charlie', 'total': 405.0}, {'customer': 'Daisy', 'total': 100.0}]\n"
     ]
    }
   ],
   "source": [
    "# Define a function to apply discounts\n",
    "def apply_discounts(orders):\n",
    "    # Use map() with a lambda to apply the discount to qualifying orders\n",
    "    discounted_orders = list(map(lambda order: ({**order, \"total\": order[\"total\"] * 0.9} if order[\"total\"] > 300 else order), orders))\n",
    "    return discounted_orders\n",
    "\n",
    "# Call the function to apply discounts\n",
    "discounted_orders = apply_discounts(valid_orders)\n",
    "print(discounted_orders)"
   ]
  },
  {
   "cell_type": "markdown",
   "metadata": {},
   "source": [
    "Part C: Total Sales Calculation"
   ]
  },
  {
   "cell_type": "code",
   "execution_count": 4,
   "metadata": {},
   "outputs": [
    {
     "name": "stdout",
     "output_type": "stream",
     "text": [
      "755.5\n"
     ]
    }
   ],
   "source": [
    "# Import the reduce() function from functools\n",
    "from functools import reduce\n",
    "\n",
    "# Define a function to calculate total sales\n",
    "def calculate_total_sales(orders):\n",
    "    # Use reduce() with a lambda to calculate the total sales\n",
    "    total_sales = reduce(lambda total, order: total + order[\"total\"], orders, 0)\n",
    "    return total_sales\n",
    "\n",
    "# Call the function to calculate total sales\n",
    "total_sales = calculate_total_sales(discounted_orders)\n",
    "print(total_sales)"
   ]
  },
  {
   "cell_type": "markdown",
   "metadata": {},
   "source": [
    "# Task 2: Iterator and Generator"
   ]
  },
  {
   "cell_type": "markdown",
   "metadata": {},
   "source": [
    "Part A: Custom Iterator"
   ]
  },
  {
   "cell_type": "code",
   "execution_count": 5,
   "metadata": {},
   "outputs": [
    {
     "name": "stdout",
     "output_type": "stream",
     "text": [
      "0\n",
      "1\n",
      "4\n",
      "9\n",
      "16\n"
     ]
    }
   ],
   "source": [
    "# Define a custom iterator class\n",
    "class SquareIterator:\n",
    "    def __init__(self, n):\n",
    "        self.n = n\n",
    "        self.current = 0\n",
    "\n",
    "    def __iter__(self):\n",
    "        return self\n",
    "\n",
    "    def __next__(self):\n",
    "        if self.current < self.n:\n",
    "            result = self.current ** 2\n",
    "            self.current += 1\n",
    "            return result\n",
    "        else:\n",
    "            raise StopIteration\n",
    "\n",
    "# Create an instance of the custom iterator\n",
    "square_iterator = SquareIterator(5)\n",
    "\n",
    "# Iterate over the squares\n",
    "for square in square_iterator:\n",
    "    print(square)"
   ]
  },
  {
   "cell_type": "markdown",
   "metadata": {},
   "source": [
    "Part B: Fibonacci Generator"
   ]
  },
  {
   "cell_type": "code",
   "execution_count": 6,
   "metadata": {},
   "outputs": [
    {
     "name": "stdout",
     "output_type": "stream",
     "text": [
      "0\n",
      "1\n",
      "1\n",
      "2\n",
      "3\n",
      "5\n",
      "8\n",
      "13\n",
      "21\n",
      "34\n"
     ]
    }
   ],
   "source": [
    "# Define a generator function\n",
    "def fibonacci_generator(n):\n",
    "    a, b = 0, 1\n",
    "    for _ in range(n):\n",
    "        yield a\n",
    "        a, b = b, a + b\n",
    "\n",
    "# Create a generator instance\n",
    "fibonacci = fibonacci_generator(10)\n",
    "\n",
    "# Iterate over the Fibonacci sequence\n",
    "for num in fibonacci:\n",
    "    print(num)"
   ]
  },
  {
   "cell_type": "markdown",
   "metadata": {},
   "source": [
    "# Task 3: Exception Handling and Function Decorator"
   ]
  },
  {
   "cell_type": "markdown",
   "metadata": {},
   "source": [
    "Part A: Chained Exceptions"
   ]
  },
  {
   "cell_type": "code",
   "execution_count": 10,
   "metadata": {},
   "outputs": [
    {
     "name": "stdout",
     "output_type": "stream",
     "text": [
      "An error occurred: Invalid divisor\n"
     ]
    }
   ],
   "source": [
    "# Task 3: Exception Handling and Function Decorator\n",
    "\n",
    "# Part A: Chained Exceptions\n",
    "class ZeroDivisorError(Exception):\n",
    "    \"\"\"Custom exception for zero divisor errors.\"\"\"\n",
    "    pass\n",
    "\n",
    "def divide_numbers(numbers, divisor):\n",
    "    \"\"\"Divide each number by the divisor, handling exceptions.\"\"\"\n",
    "    try:\n",
    "        results = []\n",
    "        for num in numbers:\n",
    "            if divisor == 0:\n",
    "                raise ZeroDivisorError(\"Cannot divide by zero!\")\n",
    "            result = num / divisor\n",
    "            results.append(result)\n",
    "        return results\n",
    "    except ZeroDivisorError as e:\n",
    "        raise ValueError(\"Invalid divisor\") from e\n",
    "    except Exception as e:\n",
    "        raise TypeError(\"Invalid input type\") from e\n",
    "\n",
    "# Example usage\n",
    "numbers = [10, 20, 30]\n",
    "divisor = 0\n",
    "try:\n",
    "    results = divide_numbers(numbers, divisor)\n",
    "    print(results)\n",
    "except Exception as e:\n",
    "    print(f\"An error occurred: {e}\")"
   ]
  },
  {
   "cell_type": "markdown",
   "metadata": {},
   "source": [
    "Part B: Exception Logging Decorato"
   ]
  },
  {
   "cell_type": "code",
   "execution_count": 11,
   "metadata": {},
   "outputs": [],
   "source": [
    "\n",
    "import logging\n",
    "\n",
    "def log_exceptions(func):\n",
    "    \"\"\"Decorator to log exceptions raised during function execution.\"\"\"\n",
    "    def wrapper(*args, **kwargs):\n",
    "        try:\n",
    "            return func(*args, **kwargs)\n",
    "        except Exception as e:\n",
    "            # Log the exception type, message, and function name\n",
    "            logging.error(f\"Exception occurred in {func.__name__}: {e}\")\n",
    "            raise  # Re-raise the exception after logging\n",
    "    return wrapper\n",
    "\n",
    "# Example of using the decorator\n",
    "@log_exceptions\n",
    "def risky_function(x):\n",
    "    return 10 / x  # This will raise an exception if x is 0\n",
    "\n",
    "# Test"
   ]
  }
 ],
 "metadata": {
  "kernelspec": {
   "display_name": "Python 3",
   "language": "python",
   "name": "python3"
  },
  "language_info": {
   "codemirror_mode": {
    "name": "ipython",
    "version": 3
   },
   "file_extension": ".py",
   "mimetype": "text/x-python",
   "name": "python",
   "nbconvert_exporter": "python",
   "pygments_lexer": "ipython3",
   "version": "3.11.1"
  }
 },
 "nbformat": 4,
 "nbformat_minor": 2
}
