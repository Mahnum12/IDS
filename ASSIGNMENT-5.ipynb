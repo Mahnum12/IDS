{
 "cells": [
  {
   "cell_type": "markdown",
   "metadata": {},
   "source": [
    "## Task 1: Load and Inspect Datasets"
   ]
  },
  {
   "cell_type": "code",
   "execution_count": null,
   "metadata": {},
   "outputs": [],
   "source": [
    "import pandas as pd\n",
    "\n",
    "# Load datasets\n",
    "sales_df = pd.read_csv('sales.csv')\n",
    "customers_df = pd.read_csv('customers.csv')\n",
    "\n",
    "# Display first few rows of each dataset\n",
    "print(\"Sales Data:\")\n",
    "print(sales_df.head())\n",
    "print(\"\\nCustomers Data:\")\n",
    "print(customers_df.head())\n",
    "\n",
    "# Display total number of rows and columns\n",
    "print(\"\\nSales Data Shape:\", sales_df.shape)\n",
    "print(\"Customers Data Shape:\", customers_df.shape)\n",
    "\n",
    "# Check for missing values\n",
    "print(\"\\nMissing Values in Sales Data:\")\n",
    "print(sales_df.isnull().sum())\n",
    "print(\"\\nMissing Values in Customers Data:\")\n",
    "print(customers_df.isnull().sum())\n"
   ]
  },
  {
   "cell_type": "markdown",
   "metadata": {},
   "source": [
    "## Task 2 Convert Customers Data to Dictionary and Filter by City"
   ]
  },
  {
   "cell_type": "markdown",
   "metadata": {},
   "source": []
  },
  {
   "cell_type": "code",
   "execution_count": null,
   "metadata": {},
   "outputs": [],
   "source": [
    "# Convert to dictionary\n",
    "customers_dict = customers_df.to_dict(orient='records')\n",
    "\n",
    "# Filter customers from a specific city using dictionary\n",
    "filtered_customers_dict = [cust for cust in customers_dict if cust['City'] == 'Houston']\n",
    "\n",
    "# Filter customers using DataFrame\n",
    "filtered_customers_df = customers_df[customers_df['City'] == 'Houston']\n",
    "\n",
    "# Compare counts\n",
    "print(\"\\nFiltered Customers Count Using Dictionary:\", len(filtered_customers_dict))\n",
    "print(\"Filtered Customers Count Using DataFrame:\", len(filtered_customers_df))\n"
   ]
  },
  {
   "cell_type": "markdown",
   "metadata": {},
   "source": [
    "## Task 3: Identify and Remove Duplicate Rows\n"
   ]
  },
  {
   "cell_type": "code",
   "execution_count": null,
   "metadata": {},
   "outputs": [],
   "source": [
    "# Check for duplicates\n",
    "print(\"\\nDuplicate Rows in Sales Data:\")\n",
    "print(sales_df[sales_df.duplicated()])\n",
    "print(\"\\nDuplicate Rows in Customers Data:\")\n",
    "print(customers_df[customers_df.duplicated()])\n",
    "\n",
    "# Remove duplicates\n",
    "sales_df_cleaned = sales_df.drop_duplicates()\n",
    "customers_df_cleaned = customers_df.drop_duplicates()\n",
    "\n",
    "# Verify no duplicates\n",
    "print(\"\\nDuplicates in Cleaned Sales Data:\", sales_df_cleaned.duplicated().sum())\n",
    "print(\"Duplicates in Cleaned Customers Data:\", customers_df_cleaned.duplicated().sum())\n"
   ]
  },
  {
   "cell_type": "markdown",
   "metadata": {},
   "source": [
    "## Task 4: Discounted Total and Group Sales by Product"
   ]
  },
  {
   "cell_type": "markdown",
   "metadata": {},
   "source": [
    "# Add discounted total column\n",
    "sales_df_cleaned['DiscountedAmount'] = sales_df_cleaned['Amount'] * 0.9\n",
    "\n",
    "# Group by product and calculate total sales\n",
    "grouped_sales = sales_df_cleaned.groupby('Product').agg({'DiscountedAmount': 'sum'}).reset_index()\n",
    "\n",
    "print(\"\\nTotal Sales by Product:\")\n",
    "print(grouped_sales)\n"
   ]
  },
  {
   "cell_type": "markdown",
   "metadata": {},
   "source": [
    "## Task 5: Filter Customers by Age Range and Analyze by City"
   ]
  },
  {
   "cell_type": "code",
   "execution_count": null,
   "metadata": {},
   "outputs": [],
   "source": [
    "# Filter customers aged 25 to 35\n",
    "filtered_age_df = customers_df_cleaned[(customers_df_cleaned['Age'] >= 25) & (customers_df_cleaned['Age'] <= 35)]\n",
    "\n",
    "# Analyze customers count by city\n",
    "age_city_counts = filtered_age_df['City'].value_counts()\n",
    "\n",
    "print(\"\\nFiltered Customers (Age 25-35):\")\n",
    "print(filtered_age_df)\n",
    "print(\"\\nCustomer Count by City:\")\n",
    "print(age_city_counts)\n"
   ]
  },
  {
   "cell_type": "markdown",
   "metadata": {},
   "source": [
    "## Task 6: Merge and Analyze Total Sales by City and Units Sold by Product"
   ]
  },
  {
   "cell_type": "code",
   "execution_count": null,
   "metadata": {},
   "outputs": [],
   "source": [
    "# Merge datasets on CustomerID\n",
    "merged_df = pd.merge(customers_df_cleaned, sales_df_cleaned, on='CustomerID')\n",
    "\n",
    "# Calculate total sales by city\n",
    "city_sales = merged_df.groupby('City').agg({'DiscountedAmount': 'sum'}).reset_index()\n",
    "top_city = city_sales.loc[city_sales['DiscountedAmount'].idxmax()]\n",
    "\n",
    "# Calculate units sold by product\n",
    "product_units = merged_df['Product'].value_counts()\n",
    "\n",
    "print(\"\\nCity with Highest Sales:\")\n",
    "print(top_city)\n",
    "print(\"\\nProduct with Most Units Sold:\")\n",
    "print(product_units.idxmax(), \"with\", product_units.max(), \"units\")\n"
   ]
  },
  {
   "cell_type": "markdown",
   "metadata": {},
   "source": [
    "## Task 7: Explore Insights (Unique Values and Amount Analysis)"
   ]
  },
  {
   "cell_type": "code",
   "execution_count": null,
   "metadata": {},
   "outputs": [],
   "source": [
    "# Unique values\n",
    "unique_cities = merged_df['City'].unique()\n",
    "unique_products = merged_df['Product'].unique()\n",
    "\n",
    "# Mean and median of Amount\n",
    "mean_amount = merged_df['Amount'].mean()\n",
    "median_amount = merged_df['Amount'].median()\n",
    "\n",
    "print(\"\\nUnique Cities:\", unique_cities)\n",
    "print(\"Unique Products:\", unique_products)\n",
    "print(\"\\nMean Amount:\", mean_amount)\n",
    "print(\"Median Amount:\", median_amount)\n"
   ]
  }
 ],
 "metadata": {
  "kernelspec": {
   "display_name": "Python 3",
   "language": "python",
   "name": "python3"
  },
  "language_info": {
   "name": "python",
   "version": "3.11.9"
  }
 },
 "nbformat": 4,
 "nbformat_minor": 2
}
