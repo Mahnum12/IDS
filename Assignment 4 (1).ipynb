{
 "cells": [
  {
   "cell_type": "markdown",
   "metadata": {},
   "source": [
    "# Task 1 Import Required Libraries"
   ]
  },
  {
   "cell_type": "code",
   "execution_count": 2,
   "metadata": {},
   "outputs": [],
   "source": [
    "import numpy as np\n",
    "import pandas as pd\n",
    "\n",
    "# Set a random seed for reproducibility\n",
    "np.random.seed(42)"
   ]
  },
  {
   "cell_type": "markdown",
   "metadata": {},
   "source": [
    "# Task 2 Initialize Temperature and Humidity Data\n"
   ]
  },
  {
   "cell_type": "code",
   "execution_count": 3,
   "metadata": {},
   "outputs": [],
   "source": [
    "# Generate random temperature data between -10 and 40 degrees Celsius\n",
    "temperature_data = np.random.uniform(-10, 40, (365, 500))\n",
    "\n",
    "# Generate random humidity data between 0 and 100 percent\n",
    "humidity_data = np.random.uniform(0, 100, (365, 500))"
   ]
  },
  {
   "cell_type": "markdown",
   "metadata": {},
   "source": [
    "# Task 3 Check for Missing Data\n"
   ]
  },
  {
   "cell_type": "code",
   "execution_count": 4,
   "metadata": {},
   "outputs": [
    {
     "name": "stdout",
     "output_type": "stream",
     "text": [
      "Missing Temperature Data: 9125\n",
      "Missing Humidity Data: 9125\n",
      "Total Missing Entries: 18250\n"
     ]
    }
   ],
   "source": [
    "# Simulate missing data by randomly setting 5% of values to null\n",
    "num_missing_temp = int(0.05 * temperature_data.size)\n",
    "num_missing_humid = int(0.05 * humidity_data.size)\n",
    "\n",
    "# Randomly select indices to set to NaN\n",
    "temp_indices = np.random.choice(temperature_data.size, num_missing_temp, replace=False)\n",
    "humid_indices = np.random.choice(humidity_data.size, num_missing_humid, replace=False)\n",
    "\n",
    "# Set the selected indices to NaN\n",
    "temperature_data.ravel()[temp_indices] = np.nan\n",
    "humidity_data.ravel()[humid_indices] = np.nan\n",
    "\n",
    "# Count the total number of missing entries\n",
    "missing_temp_count = np.isnan(temperature_data).sum()\n",
    "missing_humid_count = np.isnan(humidity_data).sum()\n",
    "\n",
    "total_missing = missing_temp_count + missing_humid_count\n",
    "\n",
    "print(f\"Missing Temperature Data: {missing_temp_count}\")\n",
    "print(f\"Missing Humidity Data: {missing_humid_count}\")\n",
    "print(f\"Total Missing Entries: {total_missing}\")"
   ]
  },
  {
   "cell_type": "markdown",
   "metadata": {},
   "source": [
    "# Task 4 Convert Temperature and Calculate Discomfort Index"
   ]
  },
  {
   "cell_type": "code",
   "execution_count": 1,
   "metadata": {},
   "outputs": [
    {
     "ename": "NameError",
     "evalue": "name 'temperature_data' is not defined",
     "output_type": "error",
     "traceback": [
      "\u001b[1;31m---------------------------------------------------------------------------\u001b[0m",
      "\u001b[1;31mNameError\u001b[0m                                 Traceback (most recent call last)",
      "Cell \u001b[1;32mIn[1], line 2\u001b[0m\n\u001b[0;32m      1\u001b[0m \u001b[38;5;66;03m# Convert Celsius to Fahrenheit\u001b[39;00m\n\u001b[1;32m----> 2\u001b[0m temperature_data_fahrenheit \u001b[38;5;241m=\u001b[39m (\u001b[43mtemperature_data\u001b[49m \u001b[38;5;241m*\u001b[39m \u001b[38;5;241m9\u001b[39m\u001b[38;5;241m/\u001b[39m\u001b[38;5;241m5\u001b[39m) \u001b[38;5;241m+\u001b[39m \u001b[38;5;241m32\u001b[39m\n\u001b[0;32m      4\u001b[0m \u001b[38;5;66;03m# Calculate the discomfort index\u001b[39;00m\n\u001b[0;32m      5\u001b[0m discomfort_index \u001b[38;5;241m=\u001b[39m temperature_data \u001b[38;5;241m+\u001b[39m (\u001b[38;5;241m0.555\u001b[39m \u001b[38;5;241m*\u001b[39m (humidity_data \u001b[38;5;241m-\u001b[39m \u001b[38;5;241m10\u001b[39m))\n",
      "\u001b[1;31mNameError\u001b[0m: name 'temperature_data' is not defined"
     ]
    }
   ],
   "source": [
    "# Convert Celsius to Fahrenheit\n",
    "temperature_data_fahrenheit = (temperature_data * 9/5) + 32\n",
    "\n",
    "# Calculate the discomfort index\n",
    "discomfort_index = temperature_data + (0.555 * (humidity_data - 10))\n",
    "\n",
    "# Cap the discomfort index at 80\n",
    "discomfort_index = np.where(discomfort_index > 80, 80, discomfort_index)"
   ]
  },
  {
   "cell_type": "markdown",
   "metadata": {},
   "source": [
    "# Task 5 Analyze January Temperatures"
   ]
  },
  {
   "cell_type": "code",
   "execution_count": null,
   "metadata": {},
   "outputs": [],
   "source": [
    "\n",
    "# Extract daily temperatures for January (first 31 days)\n",
    "january_temps = temperature_data[:31, :]\n",
    "\n",
    "# Calculate and display the average January temperature across all locations\n",
    "average_january_temp = np.nanmean(january_temps)\n",
    "print(f\"Average January Temperature: {average_january_temp:.2f} °C\")"
   ]
  },
  {
   "cell_type": "markdown",
   "metadata": {},
   "source": [
    "# Task 6 Identify Extreme Temperatures"
   ]
  },
  {
   "cell_type": "code",
   "execution_count": null,
   "metadata": {},
   "outputs": [],
   "source": [
    "# Mark temperatures exceeding 35°C as NaN\n",
    "temperature_data[temperature_data > 35] = np.nan\n",
    "\n",
    "# Count the number of NaN values per location\n",
    "extreme_temp_count = np.isnan(temperature_data).sum(axis=0)\n",
    "print(f\"Number of Extreme Temperatures per Location: {extreme_temp_count}\")"
   ]
  },
  {
   "cell_type": "markdown",
   "metadata": {},
   "source": [
    "# Task 7 Calculate Quarterly Temperature Averages"
   ]
  },
  {
   "cell_type": "code",
   "execution_count": null,
   "metadata": {},
   "outputs": [],
   "source": [
    "\n",
    "# Reshape temperature_data into four quarters\n",
    "quarters = {\n",
    "    'Q1': temperature_data[:91, :],  # January to March\n",
    "    'Q2': temperature_data[91:182, :],  # April to June\n",
    "    'Q3': temperature_data[182:273, :],  # July to September\n",
    "    'Q4': temperature_data[273:, :]  # October to December\n",
    "}\n",
    "\n",
    "# Calculate average temperature for each location across quarters\n",
    "quarterly_avg = {key: np.nanmean(value, axis=0) for key, value in quarters.items()}\n",
    "print(\"Quarterly Average Temperatures:\")\n",
    "for key, value in quarterly_avg.items():\n",
    "    print(f\"{key}: {value}\")"
   ]
  },
  {
   "cell_type": "markdown",
   "metadata": {},
   "source": [
    "# Task 8 Classify Humidity Levels"
   ]
  },
  {
   "cell_type": "code",
   "execution_count": null,
   "metadata": {},
   "outputs": [],
   "source": [
    "# Classify humidity levels\n",
    "humidity_classification = np.where(humidity_data < 30, 'Dry', np.where(humidity_data > 70, 'Humid', 'Normal'))\n",
    "\n",
    "# Count total \"Dry\" and \"Humid\" days for each location\n",
    "dry_count = np.sum(humidity_classification == 'Dry', axis=0)\n",
    "humid_count = np.sum(humidity_classification == 'Humid', axis=0)\n",
    "\n",
    "print(f\"Dry Days Count per Location: {dry_count}\")\n",
    "print(f\"Humid Days Count per Location: {humid_count}\")"
   ]
  },
  {
   "cell_type": "markdown",
   "metadata": {},
   "source": [
    "# Task 9 Apply Daily Pressure Trend to Temperature Data"
   ]
  },
  {
   "cell_type": "code",
   "execution_count": 2,
   "metadata": {},
   "outputs": [
    {
     "ename": "NameError",
     "evalue": "name 'np' is not defined",
     "output_type": "error",
     "traceback": [
      "\u001b[1;31m---------------------------------------------------------------------------\u001b[0m",
      "\u001b[1;31mNameError\u001b[0m                                 Traceback (most recent call last)",
      "Cell \u001b[1;32mIn[2], line 2\u001b[0m\n\u001b[0;32m      1\u001b[0m \u001b[38;5;66;03m# Generate a random daily pressure trend\u001b[39;00m\n\u001b[1;32m----> 2\u001b[0m pressure_trend \u001b[38;5;241m=\u001b[39m \u001b[43mnp\u001b[49m\u001b[38;5;241m.\u001b[39mrandom\u001b[38;5;241m.\u001b[39mnormal(\u001b[38;5;241m0\u001b[39m, \u001b[38;5;241m1\u001b[39m, \u001b[38;5;241m365\u001b[39m)\n\u001b[0;32m      4\u001b[0m \u001b[38;5;66;03m# Adjust daily temperatures based on pressure trend\u001b[39;00m\n\u001b[0;32m      5\u001b[0m adjusted_temperature_data \u001b[38;5;241m=\u001b[39m temperature_data \u001b[38;5;241m+\u001b[39m pressure_trend[:, np\u001b[38;5;241m.\u001b[39mnewaxis]\n",
      "\u001b[1;31mNameError\u001b[0m: name 'np' is not defined"
     ]
    }
   ],
   "source": [
    "# Generate a random daily pressure trend\n",
    "pressure_trend = np.random.normal(0, 1, 365)\n",
    "\n",
    "# Adjust daily temperatures based on pressure trend\n",
    "adjusted_temperature_data = temperature_data + pressure_trend[:, np.newaxis]\n",
    "\n",
    "# Display some"
   ]
  }
 ],
 "metadata": {
  "kernelspec": {
   "display_name": "Python 3",
   "language": "python",
   "name": "python3"
  },
  "language_info": {
   "codemirror_mode": {
    "name": "ipython",
    "version": 3
   },
   "file_extension": ".py",
   "mimetype": "text/x-python",
   "name": "python",
   "nbconvert_exporter": "python",
   "pygments_lexer": "ipython3",
   "version": "3.11.1"
  }
 },
 "nbformat": 4,
 "nbformat_minor": 2
}
